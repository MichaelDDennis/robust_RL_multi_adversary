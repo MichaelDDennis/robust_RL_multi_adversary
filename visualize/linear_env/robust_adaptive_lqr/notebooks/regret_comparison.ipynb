{
 "cells": [
  {
   "cell_type": "code",
   "execution_count": 1,
   "metadata": {},
   "outputs": [],
   "source": [
    "%load_ext autoreload\n",
    "%autoreload 2\n",
    "%matplotlib inline\n",
    "\n",
    "import numpy as np\n",
    "import time\n",
    "import logging\n",
    "from multiprocessing import Pool, cpu_count\n",
    "\n",
    "import ray\n",
    "import sys\n",
    "\n",
    "from visualize.linear_env.robust_adaptive_lqr.python import utils\n",
    "from visualize.linear_env.robust_adaptive_lqr.python import examples\n",
    "from visualize.linear_env.robust_adaptive_lqr.python.optimal import OptimalStrategy\n",
    "from visualize.linear_env.robust_adaptive_lqr.python.nominal import NominalStrategy\n",
    "from visualize.linear_env.robust_adaptive_lqr.python.ofu import OFUStrategy\n",
    "from visualize.linear_env.robust_adaptive_lqr.python.sls import SLS_FIRStrategy, SLS_CommonLyapunovStrategy, sls_common_lyapunov, SLSInfeasibleException\n",
    "from visualize.linear_env.robust_adaptive_lqr.python.ts import TSStrategy\n",
    "from visualize.linear_env.robust_adaptive_lqr.python.rl_agent import RLStrategy\n",
    "\n",
    "import matplotlib.pylab as plt\n",
    "import seaborn as sns\n",
    "sns.set_style('ticks')\n",
    "\n",
    "logging.basicConfig(level=logging.WARN)"
   ]
  },
  {
   "cell_type": "code",
   "execution_count": 2,
   "metadata": {},
   "outputs": [
    {
     "name": "stderr",
     "output_type": "stream",
     "text": [
      "2020-04-14 18:00:04,027\tWARNING worker.py:673 -- WARNING: Not updating worker name since `setproctitle` is not installed. Install this with `pip install setproctitle` (or ray[debug]) to enable monitoring of worker processes.\n",
      "2020-04-14 18:00:04,041\tINFO resource_spec.py:216 -- Starting Ray with 8.79 GiB memory available for workers and up to 4.42 GiB for objects. You can adjust these settings with ray.init(memory=<bytes>, object_store_memory=<bytes>).\n"
     ]
    },
    {
     "data": {
      "text/plain": [
       "{'node_ip_address': '192.168.0.13',\n",
       " 'redis_address': '192.168.0.13:38246',\n",
       " 'object_store_address': '/tmp/ray/session_2020-04-14_18-00-04_029258_34147/sockets/plasma_store',\n",
       " 'raylet_socket_name': '/tmp/ray/session_2020-04-14_18-00-04_029258_34147/sockets/raylet',\n",
       " 'webui_url': None,\n",
       " 'session_dir': '/tmp/ray/session_2020-04-14_18-00-04_029258_34147'}"
      ]
     },
     "execution_count": 2,
     "metadata": {},
     "output_type": "execute_result"
    }
   ],
   "source": [
    "# PARAMETERS\n",
    "rng = np.random\n",
    "horizon = 200\n",
    "trials_per_method = 1\n",
    "ray.init(ignore_reinit_error=True)"
   ]
  },
  {
   "cell_type": "markdown",
   "metadata": {},
   "source": [
    "## Defining True System Dynamics"
   ]
  },
  {
   "cell_type": "code",
   "execution_count": 13,
   "metadata": {},
   "outputs": [],
   "source": [
    "def set_up_example(A_star, B_star, qr_ratio, prime_horizon, prime_excitation, sigma_excitation=0.1):\n",
    "    n,p = B_star.shape\n",
    "    # design a stabilizing controller\n",
    "    _, K_init = utils.dlqr(A_star, B_star, 1e-3*np.eye(n), np.eye(p))\n",
    "    assert utils.spectral_radius(A_star + B_star.dot(K_init)) < 1\n",
    "    Q = qr_ratio * np.eye(n)\n",
    "    R = np.eye(p)\n",
    "    sigma_w = 1\n",
    "    return A_star, B_star, K_init, Q, R, prime_horizon, prime_excitation, sigma_excitation, sigma_w\n",
    "\n",
    "def laplacian_dynamics(qr_ratio=1e1, prime_horizon=100, prime_excitation=1):\n",
    "    A_star, B_star = examples.unstable_laplacian_dynamics()\n",
    "    return set_up_example(A_star, B_star, qr_ratio, prime_horizon, prime_excitation)\n",
    "\n",
    "def unstable_dynamics(qr_ratio=1e1, prime_horizon=250, prime_excitation=2):\n",
    "    A_star, B_star = examples.transient_dynamics(diag_coeff=2, upperdiag=4)\n",
    "    return set_up_example(A_star, B_star, qr_ratio, prime_horizon, prime_excitation, sigma_excitation=0.1)"
   ]
  },
  {
   "cell_type": "code",
   "execution_count": 14,
   "metadata": {},
   "outputs": [
    {
     "name": "stdout",
     "output_type": "stream",
     "text": [
      "[[-1.01 -0.01 -0.  ]\n",
      " [-0.01 -1.01 -0.01]\n",
      " [-0.   -0.01 -1.01]]\n",
      "[[1. 0. 0.]\n",
      " [0. 1. 0.]\n",
      " [0. 0. 1.]]\n",
      "[[0.04373095 0.01250864 0.00126936]\n",
      " [0.01250864 0.04500031 0.01250864]\n",
      " [0.00126936 0.01250864 0.04373095]]\n",
      "prime_horizon 100\n",
      "prime_excitation 1\n",
      "sigma_excitation 0.1\n",
      "[-0.96145194 -0.96753841 -0.96854745]\n"
     ]
    }
   ],
   "source": [
    "example = laplacian_dynamics() # unstable_dynamics()\n",
    "A_star, B_star, K_init, Q, R, prime_horizon, prime_excitation, sigma_excitation, sigma_w = example\n",
    "\n",
    "print(A_star)\n",
    "print(B_star)\n",
    "print(K_init)\n",
    "print(\"prime_horizon\", prime_horizon)\n",
    "print(\"prime_excitation\", prime_excitation)\n",
    "print(\"sigma_excitation\", sigma_excitation)\n",
    "print(np.linalg.eigvals(A_star + B_star @ K_init))"
   ]
  },
  {
   "cell_type": "markdown",
   "metadata": {},
   "source": [
    "# Constructors for different adaptive methods"
   ]
  },
  {
   "cell_type": "code",
   "execution_count": 7,
   "metadata": {},
   "outputs": [],
   "source": [
    "def optimal_ctor():\n",
    "    return OptimalStrategy(Q=Q, R=R, A_star=A_star, B_star=B_star, sigma_w=sigma_w)\n",
    "\n",
    "def nominal_ctor():\n",
    "    return NominalStrategy(Q=Q,\n",
    "                          R=R,\n",
    "                          A_star=A_star,\n",
    "                          B_star=B_star,\n",
    "                          sigma_w=sigma_w,\n",
    "                          sigma_explore=sigma_excitation,\n",
    "                          reg=1e-5,\n",
    "                          epoch_multiplier=10, rls_lam=None)\n",
    "\n",
    "def rl_ctor():\n",
    "    import ipdb; ipdb.set_trace()\n",
    "    return RLStrategy(Q=Q,\n",
    "                      R=R,\n",
    "                      A_star=A_star,\n",
    "                      B_star=B_star,\n",
    "                      sigma_w=sigma_w,\n",
    "                      sigma_explore=sigma_excitation,\n",
    "                      reg=1e-5,\n",
    "                      epoch_multiplier=10, rls_lam=None)\n",
    "\n",
    "def ofu_ctor():\n",
    "    return OFUStrategy(Q=Q,\n",
    "                  R=R,\n",
    "                  A_star=A_star,\n",
    "                  B_star=B_star,\n",
    "                  sigma_w=sigma_w,\n",
    "                  reg=1e-5,\n",
    "                  actual_error_multiplier=1, rls_lam=None)\n",
    "\n",
    "def ts_ctor():\n",
    "    return TSStrategy(Q=Q,\n",
    "                  R=R,\n",
    "                  A_star=A_star,\n",
    "                  B_star=B_star,\n",
    "                  sigma_w=sigma_w,\n",
    "                  reg=1e-5,\n",
    "                  tau=500,\n",
    "                  actual_error_multiplier=1, rls_lam=None)\n",
    "\n",
    "def sls_fir_ctor():\n",
    "    return SLS_FIRStrategy(Q=Q,\n",
    "                  R=R,\n",
    "                  A_star=A_star,\n",
    "                  B_star=B_star,\n",
    "                  sigma_w=sigma_w,\n",
    "                  sigma_explore=sigma_excitation,\n",
    "                  reg=1e-5,\n",
    "                  epoch_multiplier=10,\n",
    "                  truncation_length=12,\n",
    "                  actual_error_multiplier=1, rls_lam=None)\n",
    "\n",
    "def sls_cl_ctor():\n",
    "    return SLS_CommonLyapunovStrategy(Q=Q,\n",
    "                  R=R,\n",
    "                  A_star=A_star,\n",
    "                  B_star=B_star,\n",
    "                  sigma_w=sigma_w,\n",
    "                  sigma_explore=sigma_excitation,\n",
    "                  reg=1e-5,\n",
    "                  epoch_multiplier=10,\n",
    "                  actual_error_multiplier=1, rls_lam=None)"
   ]
  },
  {
   "cell_type": "markdown",
   "metadata": {},
   "source": [
    "# Helper methods for running in parallel"
   ]
  },
  {
   "cell_type": "code",
   "execution_count": 8,
   "metadata": {},
   "outputs": [],
   "source": [
    "prime_seed = 45727\n",
    "def run_one_trial(new_env_ctor, seed, prime_fixed=False):\n",
    "    rng = np.random.RandomState(seed)\n",
    "    if prime_fixed: # reducing variance\n",
    "        rng_prime = np.random.RandomState(prime_seed) \n",
    "    else:\n",
    "        rng_prime = rng\n",
    "    env = new_env_ctor()\n",
    "    env.reset(rng_prime)\n",
    "    env.prime(prime_horizon, K_init, prime_excitation, rng_prime)\n",
    "    regret = np.array([env.step(rng) for _ in range(horizon)])\n",
    "    env.complete_epoch(rng)\n",
    "    err, cost = env.get_statistics(iteration_based=True)\n",
    "    return regret, err, cost\n",
    "\n",
    "def spawn_invocation(method, p, prime_fixed=False):\n",
    "    seed = np.random.randint(0xFFFFFFFF)\n",
    "    ctor = {\n",
    "        'optimal': optimal_ctor,\n",
    "        'nominal': nominal_ctor,\n",
    "        'ofu': ofu_ctor,\n",
    "        'ts': ts_ctor,\n",
    "        'sls_fir': sls_fir_ctor,\n",
    "        'sls_cl': sls_cl_ctor,\n",
    "        \"rl\": rl_ctor\n",
    "    }[method]\n",
    "    return (p.apply_async(run_one_trial, (ctor, seed, prime_fixed)), seed)\n",
    "\n",
    "def process_future_list(ftchs):\n",
    "    regrets = []\n",
    "    errors = []\n",
    "    costs = []\n",
    "    seeds = []\n",
    "    bad_invocations = 0\n",
    "    for ftch, seed in ftchs:\n",
    "        try:\n",
    "            reg, err, cost = ftch.get()\n",
    "        except Exception as e:\n",
    "            bad_invocations += 1\n",
    "            continue\n",
    "        regrets.append(reg)\n",
    "        errors.append(err)\n",
    "        costs.append(cost)\n",
    "        seeds.append(seed)\n",
    "    return np.array(regrets), np.array(errors), np.array(costs), np.array(seeds), bad_invocations"
   ]
  },
  {
   "cell_type": "code",
   "execution_count": 12,
   "metadata": {},
   "outputs": [
    {
     "name": "stdout",
     "output_type": "stream",
     "text": [
      "> \u001b[0;32m/Users/eugenevinitsky/Desktop/Research/Code/adversarial_sim2real/visualize/linear_env/robust_adaptive_lqr/python/adaptive.py\u001b[0m(55)\u001b[0;36m__init__\u001b[0;34m()\u001b[0m\n",
      "\u001b[0;32m     54 \u001b[0;31m        \u001b[0;32mimport\u001b[0m \u001b[0mipdb\u001b[0m\u001b[0;34m;\u001b[0m \u001b[0mipdb\u001b[0m\u001b[0;34m.\u001b[0m\u001b[0mset_trace\u001b[0m\u001b[0;34m(\u001b[0m\u001b[0;34m)\u001b[0m\u001b[0;34m\u001b[0m\u001b[0;34m\u001b[0m\u001b[0m\n",
      "\u001b[0m\u001b[0;32m---> 55 \u001b[0;31m        \u001b[0mself\u001b[0m\u001b[0;34m.\u001b[0m\u001b[0m_J_star\u001b[0m \u001b[0;34m=\u001b[0m \u001b[0;34m(\u001b[0m\u001b[0mself\u001b[0m\u001b[0;34m.\u001b[0m\u001b[0m_sigma_w\u001b[0m \u001b[0;34m**\u001b[0m \u001b[0;36m2\u001b[0m\u001b[0;34m)\u001b[0m \u001b[0;34m*\u001b[0m \u001b[0mnp\u001b[0m\u001b[0;34m.\u001b[0m\u001b[0mtrace\u001b[0m\u001b[0;34m(\u001b[0m\u001b[0mself\u001b[0m\u001b[0;34m.\u001b[0m\u001b[0m_P_star\u001b[0m\u001b[0;34m)\u001b[0m\u001b[0;34m\u001b[0m\u001b[0;34m\u001b[0m\u001b[0m\n",
      "\u001b[0m\u001b[0;32m     56 \u001b[0;31m\u001b[0;34m\u001b[0m\u001b[0m\n",
      "\u001b[0m\n",
      "ipdb> self._sigma_w\n",
      "1\n",
      "ipdb> self.Q\n",
      "*** AttributeError: 'RLStrategy' object has no attribute 'Q'\n",
      "ipdb> self._Q\n",
      "array([[10.,  0.,  0.],\n",
      "       [ 0., 10.,  0.],\n",
      "       [ 0.,  0., 10.]])\n",
      "ipdb> l\n",
      "\u001b[1;32m     50 \u001b[0m        \u001b[0;32melse\u001b[0m\u001b[0;34m:\u001b[0m\u001b[0;34m\u001b[0m\u001b[0;34m\u001b[0m\u001b[0m\n",
      "\u001b[1;32m     51 \u001b[0m            \u001b[0mself\u001b[0m\u001b[0;34m.\u001b[0m\u001b[0m_rls\u001b[0m \u001b[0;34m=\u001b[0m \u001b[0;32mNone\u001b[0m\u001b[0;34m\u001b[0m\u001b[0;34m\u001b[0m\u001b[0m\n",
      "\u001b[1;32m     52 \u001b[0m\u001b[0;34m\u001b[0m\u001b[0m\n",
      "\u001b[1;32m     53 \u001b[0m        \u001b[0mself\u001b[0m\u001b[0;34m.\u001b[0m\u001b[0m_P_star\u001b[0m\u001b[0;34m,\u001b[0m \u001b[0mself\u001b[0m\u001b[0;34m.\u001b[0m\u001b[0m_K_star\u001b[0m \u001b[0;34m=\u001b[0m \u001b[0mutils\u001b[0m\u001b[0;34m.\u001b[0m\u001b[0mdlqr\u001b[0m\u001b[0;34m(\u001b[0m\u001b[0mself\u001b[0m\u001b[0;34m.\u001b[0m\u001b[0m_A_star\u001b[0m\u001b[0;34m,\u001b[0m \u001b[0mself\u001b[0m\u001b[0;34m.\u001b[0m\u001b[0m_B_star\u001b[0m\u001b[0;34m,\u001b[0m \u001b[0mself\u001b[0m\u001b[0;34m.\u001b[0m\u001b[0m_Q\u001b[0m\u001b[0;34m,\u001b[0m \u001b[0mself\u001b[0m\u001b[0;34m.\u001b[0m\u001b[0m_R\u001b[0m\u001b[0;34m)\u001b[0m\u001b[0;34m\u001b[0m\u001b[0;34m\u001b[0m\u001b[0m\n",
      "\u001b[1;32m     54 \u001b[0m        \u001b[0;32mimport\u001b[0m \u001b[0mipdb\u001b[0m\u001b[0;34m;\u001b[0m \u001b[0mipdb\u001b[0m\u001b[0;34m.\u001b[0m\u001b[0mset_trace\u001b[0m\u001b[0;34m(\u001b[0m\u001b[0;34m)\u001b[0m\u001b[0;34m\u001b[0m\u001b[0;34m\u001b[0m\u001b[0m\n",
      "\u001b[0;32m---> 55 \u001b[0;31m        \u001b[0mself\u001b[0m\u001b[0;34m.\u001b[0m\u001b[0m_J_star\u001b[0m \u001b[0;34m=\u001b[0m \u001b[0;34m(\u001b[0m\u001b[0mself\u001b[0m\u001b[0;34m.\u001b[0m\u001b[0m_sigma_w\u001b[0m \u001b[0;34m**\u001b[0m \u001b[0;36m2\u001b[0m\u001b[0;34m)\u001b[0m \u001b[0;34m*\u001b[0m \u001b[0mnp\u001b[0m\u001b[0;34m.\u001b[0m\u001b[0mtrace\u001b[0m\u001b[0;34m(\u001b[0m\u001b[0mself\u001b[0m\u001b[0;34m.\u001b[0m\u001b[0m_P_star\u001b[0m\u001b[0;34m)\u001b[0m\u001b[0;34m\u001b[0m\u001b[0;34m\u001b[0m\u001b[0m\n",
      "\u001b[0m\u001b[1;32m     56 \u001b[0m\u001b[0;34m\u001b[0m\u001b[0m\n",
      "\u001b[1;32m     57 \u001b[0m    \u001b[0;34m@\u001b[0m\u001b[0mabstractmethod\u001b[0m\u001b[0;34m\u001b[0m\u001b[0;34m\u001b[0m\u001b[0m\n",
      "\u001b[1;32m     58 \u001b[0m    \u001b[0;32mdef\u001b[0m \u001b[0m_design_controller\u001b[0m\u001b[0;34m(\u001b[0m\u001b[0mself\u001b[0m\u001b[0;34m,\u001b[0m \u001b[0mstates\u001b[0m\u001b[0;34m,\u001b[0m \u001b[0minputs\u001b[0m\u001b[0;34m,\u001b[0m \u001b[0mtransitions\u001b[0m\u001b[0;34m,\u001b[0m \u001b[0mrng\u001b[0m\u001b[0;34m)\u001b[0m\u001b[0;34m:\u001b[0m\u001b[0;34m\u001b[0m\u001b[0;34m\u001b[0m\u001b[0m\n",
      "\u001b[1;32m     59 \u001b[0m        \"\"\"Design a controller for the next epoch.\n",
      "\u001b[1;32m     60 \u001b[0m\u001b[0;34m\u001b[0m\u001b[0m\n",
      "\n",
      "ipdb> self.Ahat\n",
      "*** AttributeError: 'RLStrategy' object has no attribute 'Ahat'\n",
      "ipdb> c\n",
      "reward targets are []\n"
     ]
    },
    {
     "name": "stderr",
     "output_type": "stream",
     "text": [
      "2020-04-14 19:45:47,299\tWARNING util.py:45 -- Install gputil for GPU system monitoring.\n",
      "2020-04-14 19:45:47,461\tINFO trainable.py:346 -- Restored from checkpoint: /Users/eugenevinitsky/Desktop/Research/Data/sim2real/linear/04-13-2020/linear_dr_d3_h200_r4/linear_dr_d3_h200_r4/PPO_0_lambda=0.5,lr=0.0005_2020-04-14_06-16-3346eyb1_c/checkpoint_250/checkpoint-250\n",
      "2020-04-14 19:45:47,462\tINFO trainable.py:353 -- Current state after restoring: {'_iteration': 250, '_timesteps_total': 75000000, '_time_total': 39357.96398448944, '_episodes_total': 383911}\n"
     ]
    },
    {
     "name": "stdout",
     "output_type": "stream",
     "text": [
      "reward targets are []\n",
      "> \u001b[0;32m/Users/eugenevinitsky/Desktop/Research/Code/adversarial_sim2real/visualize/linear_env/robust_adaptive_lqr/python/adaptive.py\u001b[0m(218)\u001b[0;36mstep\u001b[0;34m()\u001b[0m\n",
      "\u001b[0;32m    217 \u001b[0;31m                \u001b[0mself\u001b[0m\u001b[0;34m.\u001b[0m\u001b[0m_B_star\u001b[0m\u001b[0;34m.\u001b[0m\u001b[0mdot\u001b[0m\u001b[0;34m(\u001b[0m\u001b[0minp\u001b[0m\u001b[0;34m)\u001b[0m \u001b[0;34m+\u001b[0m\u001b[0;31m \u001b[0m\u001b[0;31m\\\u001b[0m\u001b[0;34m\u001b[0m\u001b[0;34m\u001b[0m\u001b[0m\n",
      "\u001b[0m\u001b[0;32m--> 218 \u001b[0;31m                \u001b[0mself\u001b[0m\u001b[0;34m.\u001b[0m\u001b[0m_sigma_w\u001b[0m \u001b[0;34m*\u001b[0m \u001b[0mself\u001b[0m\u001b[0;34m.\u001b[0m\u001b[0m_get_rng\u001b[0m\u001b[0;34m(\u001b[0m\u001b[0mrng\u001b[0m\u001b[0;34m)\u001b[0m\u001b[0;34m.\u001b[0m\u001b[0mnormal\u001b[0m\u001b[0;34m(\u001b[0m\u001b[0msize\u001b[0m\u001b[0;34m=\u001b[0m\u001b[0;34m(\u001b[0m\u001b[0mself\u001b[0m\u001b[0;34m.\u001b[0m\u001b[0m_n\u001b[0m\u001b[0;34m,\u001b[0m\u001b[0;34m)\u001b[0m\u001b[0;34m)\u001b[0m\u001b[0;34m\u001b[0m\u001b[0;34m\u001b[0m\u001b[0m\n",
      "\u001b[0m\u001b[0;32m    219 \u001b[0;31m\u001b[0;34m\u001b[0m\u001b[0m\n",
      "\u001b[0m\n",
      "ipdb> self.Ahat\n",
      "array([[-0.99653757, -0.06712668, -0.02007286],\n",
      "       [-0.10947462, -1.02150505,  0.08951086],\n",
      "       [ 0.07344253, -0.03699392, -1.10846505]])\n",
      "ipdb> q\n"
     ]
    },
    {
     "ename": "BdbQuit",
     "evalue": "",
     "output_type": "error",
     "traceback": [
      "\u001b[0;31m------------------------------------------------------------\u001b[0m",
      "\u001b[0;31mBdbQuit\u001b[0m                    Traceback (most recent call last)",
      "\u001b[0;32m<ipython-input-12-8b8ee771868f>\u001b[0m in \u001b[0;36m<module>\u001b[0;34m\u001b[0m\n\u001b[0;32m----> 1\u001b[0;31m \u001b[0mrun_one_trial\u001b[0m\u001b[0;34m(\u001b[0m\u001b[0mrl_ctor\u001b[0m\u001b[0;34m,\u001b[0m \u001b[0;36m0\u001b[0m\u001b[0;34m,\u001b[0m \u001b[0mprime_fixed\u001b[0m\u001b[0;34m=\u001b[0m\u001b[0;32mFalse\u001b[0m\u001b[0;34m)\u001b[0m\u001b[0;34m\u001b[0m\u001b[0;34m\u001b[0m\u001b[0m\n\u001b[0m",
      "\u001b[0;32m<ipython-input-8-15b7112bc741>\u001b[0m in \u001b[0;36mrun_one_trial\u001b[0;34m(new_env_ctor, seed, prime_fixed)\u001b[0m\n\u001b[1;32m      9\u001b[0m     \u001b[0menv\u001b[0m\u001b[0;34m.\u001b[0m\u001b[0mreset\u001b[0m\u001b[0;34m(\u001b[0m\u001b[0mrng_prime\u001b[0m\u001b[0;34m)\u001b[0m\u001b[0;34m\u001b[0m\u001b[0;34m\u001b[0m\u001b[0m\n\u001b[1;32m     10\u001b[0m     \u001b[0menv\u001b[0m\u001b[0;34m.\u001b[0m\u001b[0mprime\u001b[0m\u001b[0;34m(\u001b[0m\u001b[0mprime_horizon\u001b[0m\u001b[0;34m,\u001b[0m \u001b[0mK_init\u001b[0m\u001b[0;34m,\u001b[0m \u001b[0mprime_excitation\u001b[0m\u001b[0;34m,\u001b[0m \u001b[0mrng_prime\u001b[0m\u001b[0;34m)\u001b[0m\u001b[0;34m\u001b[0m\u001b[0;34m\u001b[0m\u001b[0m\n\u001b[0;32m---> 11\u001b[0;31m     \u001b[0mregret\u001b[0m \u001b[0;34m=\u001b[0m \u001b[0mnp\u001b[0m\u001b[0;34m.\u001b[0m\u001b[0marray\u001b[0m\u001b[0;34m(\u001b[0m\u001b[0;34m[\u001b[0m\u001b[0menv\u001b[0m\u001b[0;34m.\u001b[0m\u001b[0mstep\u001b[0m\u001b[0;34m(\u001b[0m\u001b[0mrng\u001b[0m\u001b[0;34m)\u001b[0m \u001b[0;32mfor\u001b[0m \u001b[0m_\u001b[0m \u001b[0;32min\u001b[0m \u001b[0mrange\u001b[0m\u001b[0;34m(\u001b[0m\u001b[0mhorizon\u001b[0m\u001b[0;34m)\u001b[0m\u001b[0;34m]\u001b[0m\u001b[0;34m)\u001b[0m\u001b[0;34m\u001b[0m\u001b[0;34m\u001b[0m\u001b[0m\n\u001b[0m\u001b[1;32m     12\u001b[0m     \u001b[0menv\u001b[0m\u001b[0;34m.\u001b[0m\u001b[0mcomplete_epoch\u001b[0m\u001b[0;34m(\u001b[0m\u001b[0mrng\u001b[0m\u001b[0;34m)\u001b[0m\u001b[0;34m\u001b[0m\u001b[0;34m\u001b[0m\u001b[0m\n\u001b[1;32m     13\u001b[0m     \u001b[0merr\u001b[0m\u001b[0;34m,\u001b[0m \u001b[0mcost\u001b[0m \u001b[0;34m=\u001b[0m \u001b[0menv\u001b[0m\u001b[0;34m.\u001b[0m\u001b[0mget_statistics\u001b[0m\u001b[0;34m(\u001b[0m\u001b[0miteration_based\u001b[0m\u001b[0;34m=\u001b[0m\u001b[0;32mTrue\u001b[0m\u001b[0;34m)\u001b[0m\u001b[0;34m\u001b[0m\u001b[0;34m\u001b[0m\u001b[0m\n",
      "\u001b[0;32m<ipython-input-8-15b7112bc741>\u001b[0m in \u001b[0;36m<listcomp>\u001b[0;34m(.0)\u001b[0m\n\u001b[1;32m      9\u001b[0m     \u001b[0menv\u001b[0m\u001b[0;34m.\u001b[0m\u001b[0mreset\u001b[0m\u001b[0;34m(\u001b[0m\u001b[0mrng_prime\u001b[0m\u001b[0;34m)\u001b[0m\u001b[0;34m\u001b[0m\u001b[0;34m\u001b[0m\u001b[0m\n\u001b[1;32m     10\u001b[0m     \u001b[0menv\u001b[0m\u001b[0;34m.\u001b[0m\u001b[0mprime\u001b[0m\u001b[0;34m(\u001b[0m\u001b[0mprime_horizon\u001b[0m\u001b[0;34m,\u001b[0m \u001b[0mK_init\u001b[0m\u001b[0;34m,\u001b[0m \u001b[0mprime_excitation\u001b[0m\u001b[0;34m,\u001b[0m \u001b[0mrng_prime\u001b[0m\u001b[0;34m)\u001b[0m\u001b[0;34m\u001b[0m\u001b[0;34m\u001b[0m\u001b[0m\n\u001b[0;32m---> 11\u001b[0;31m     \u001b[0mregret\u001b[0m \u001b[0;34m=\u001b[0m \u001b[0mnp\u001b[0m\u001b[0;34m.\u001b[0m\u001b[0marray\u001b[0m\u001b[0;34m(\u001b[0m\u001b[0;34m[\u001b[0m\u001b[0menv\u001b[0m\u001b[0;34m.\u001b[0m\u001b[0mstep\u001b[0m\u001b[0;34m(\u001b[0m\u001b[0mrng\u001b[0m\u001b[0;34m)\u001b[0m \u001b[0;32mfor\u001b[0m \u001b[0m_\u001b[0m \u001b[0;32min\u001b[0m \u001b[0mrange\u001b[0m\u001b[0;34m(\u001b[0m\u001b[0mhorizon\u001b[0m\u001b[0;34m)\u001b[0m\u001b[0;34m]\u001b[0m\u001b[0;34m)\u001b[0m\u001b[0;34m\u001b[0m\u001b[0;34m\u001b[0m\u001b[0m\n\u001b[0m\u001b[1;32m     12\u001b[0m     \u001b[0menv\u001b[0m\u001b[0;34m.\u001b[0m\u001b[0mcomplete_epoch\u001b[0m\u001b[0;34m(\u001b[0m\u001b[0mrng\u001b[0m\u001b[0;34m)\u001b[0m\u001b[0;34m\u001b[0m\u001b[0;34m\u001b[0m\u001b[0m\n\u001b[1;32m     13\u001b[0m     \u001b[0merr\u001b[0m\u001b[0;34m,\u001b[0m \u001b[0mcost\u001b[0m \u001b[0;34m=\u001b[0m \u001b[0menv\u001b[0m\u001b[0;34m.\u001b[0m\u001b[0mget_statistics\u001b[0m\u001b[0;34m(\u001b[0m\u001b[0miteration_based\u001b[0m\u001b[0;34m=\u001b[0m\u001b[0;32mTrue\u001b[0m\u001b[0;34m)\u001b[0m\u001b[0;34m\u001b[0m\u001b[0;34m\u001b[0m\u001b[0m\n",
      "\u001b[0;32m~/Desktop/Research/Code/adversarial_sim2real/visualize/linear_env/robust_adaptive_lqr/python/adaptive.py\u001b[0m in \u001b[0;36mstep\u001b[0;34m(self, rng)\u001b[0m\n\u001b[1;32m    216\u001b[0m         \u001b[0mxnext\u001b[0m \u001b[0;34m=\u001b[0m \u001b[0mself\u001b[0m\u001b[0;34m.\u001b[0m\u001b[0m_A_star\u001b[0m\u001b[0;34m.\u001b[0m\u001b[0mdot\u001b[0m\u001b[0;34m(\u001b[0m\u001b[0mself\u001b[0m\u001b[0;34m.\u001b[0m\u001b[0m_state_cur\u001b[0m\u001b[0;34m)\u001b[0m \u001b[0;34m+\u001b[0m\u001b[0;31m \u001b[0m\u001b[0;31m\\\u001b[0m\u001b[0;34m\u001b[0m\u001b[0;34m\u001b[0m\u001b[0m\n\u001b[1;32m    217\u001b[0m                 \u001b[0mself\u001b[0m\u001b[0;34m.\u001b[0m\u001b[0m_B_star\u001b[0m\u001b[0;34m.\u001b[0m\u001b[0mdot\u001b[0m\u001b[0;34m(\u001b[0m\u001b[0minp\u001b[0m\u001b[0;34m)\u001b[0m \u001b[0;34m+\u001b[0m\u001b[0;31m \u001b[0m\u001b[0;31m\\\u001b[0m\u001b[0;34m\u001b[0m\u001b[0;34m\u001b[0m\u001b[0m\n\u001b[0;32m--> 218\u001b[0;31m                 \u001b[0mself\u001b[0m\u001b[0;34m.\u001b[0m\u001b[0m_sigma_w\u001b[0m \u001b[0;34m*\u001b[0m \u001b[0mself\u001b[0m\u001b[0;34m.\u001b[0m\u001b[0m_get_rng\u001b[0m\u001b[0;34m(\u001b[0m\u001b[0mrng\u001b[0m\u001b[0;34m)\u001b[0m\u001b[0;34m.\u001b[0m\u001b[0mnormal\u001b[0m\u001b[0;34m(\u001b[0m\u001b[0msize\u001b[0m\u001b[0;34m=\u001b[0m\u001b[0;34m(\u001b[0m\u001b[0mself\u001b[0m\u001b[0;34m.\u001b[0m\u001b[0m_n\u001b[0m\u001b[0;34m,\u001b[0m\u001b[0;34m)\u001b[0m\u001b[0;34m)\u001b[0m\u001b[0;34m\u001b[0m\u001b[0;34m\u001b[0m\u001b[0m\n\u001b[0m\u001b[1;32m    219\u001b[0m \u001b[0;34m\u001b[0m\u001b[0m\n\u001b[1;32m    220\u001b[0m         \u001b[0mself\u001b[0m\u001b[0;34m.\u001b[0m\u001b[0m_state_history\u001b[0m\u001b[0;34m.\u001b[0m\u001b[0mappend\u001b[0m\u001b[0;34m(\u001b[0m\u001b[0mself\u001b[0m\u001b[0;34m.\u001b[0m\u001b[0m_state_cur\u001b[0m\u001b[0;34m)\u001b[0m\u001b[0;34m\u001b[0m\u001b[0;34m\u001b[0m\u001b[0m\n",
      "\u001b[0;32m~/Desktop/Research/Code/adversarial_sim2real/visualize/linear_env/robust_adaptive_lqr/python/adaptive.py\u001b[0m in \u001b[0;36mstep\u001b[0;34m(self, rng)\u001b[0m\n\u001b[1;32m    216\u001b[0m         \u001b[0mxnext\u001b[0m \u001b[0;34m=\u001b[0m \u001b[0mself\u001b[0m\u001b[0;34m.\u001b[0m\u001b[0m_A_star\u001b[0m\u001b[0;34m.\u001b[0m\u001b[0mdot\u001b[0m\u001b[0;34m(\u001b[0m\u001b[0mself\u001b[0m\u001b[0;34m.\u001b[0m\u001b[0m_state_cur\u001b[0m\u001b[0;34m)\u001b[0m \u001b[0;34m+\u001b[0m\u001b[0;31m \u001b[0m\u001b[0;31m\\\u001b[0m\u001b[0;34m\u001b[0m\u001b[0;34m\u001b[0m\u001b[0m\n\u001b[1;32m    217\u001b[0m                 \u001b[0mself\u001b[0m\u001b[0;34m.\u001b[0m\u001b[0m_B_star\u001b[0m\u001b[0;34m.\u001b[0m\u001b[0mdot\u001b[0m\u001b[0;34m(\u001b[0m\u001b[0minp\u001b[0m\u001b[0;34m)\u001b[0m \u001b[0;34m+\u001b[0m\u001b[0;31m \u001b[0m\u001b[0;31m\\\u001b[0m\u001b[0;34m\u001b[0m\u001b[0;34m\u001b[0m\u001b[0m\n\u001b[0;32m--> 218\u001b[0;31m                 \u001b[0mself\u001b[0m\u001b[0;34m.\u001b[0m\u001b[0m_sigma_w\u001b[0m \u001b[0;34m*\u001b[0m \u001b[0mself\u001b[0m\u001b[0;34m.\u001b[0m\u001b[0m_get_rng\u001b[0m\u001b[0;34m(\u001b[0m\u001b[0mrng\u001b[0m\u001b[0;34m)\u001b[0m\u001b[0;34m.\u001b[0m\u001b[0mnormal\u001b[0m\u001b[0;34m(\u001b[0m\u001b[0msize\u001b[0m\u001b[0;34m=\u001b[0m\u001b[0;34m(\u001b[0m\u001b[0mself\u001b[0m\u001b[0;34m.\u001b[0m\u001b[0m_n\u001b[0m\u001b[0;34m,\u001b[0m\u001b[0;34m)\u001b[0m\u001b[0;34m)\u001b[0m\u001b[0;34m\u001b[0m\u001b[0;34m\u001b[0m\u001b[0m\n\u001b[0m\u001b[1;32m    219\u001b[0m \u001b[0;34m\u001b[0m\u001b[0m\n\u001b[1;32m    220\u001b[0m         \u001b[0mself\u001b[0m\u001b[0;34m.\u001b[0m\u001b[0m_state_history\u001b[0m\u001b[0;34m.\u001b[0m\u001b[0mappend\u001b[0m\u001b[0;34m(\u001b[0m\u001b[0mself\u001b[0m\u001b[0;34m.\u001b[0m\u001b[0m_state_cur\u001b[0m\u001b[0;34m)\u001b[0m\u001b[0;34m\u001b[0m\u001b[0;34m\u001b[0m\u001b[0m\n",
      "\u001b[0;32m~/anaconda3/envs/sim2real/lib/python3.6/bdb.py\u001b[0m in \u001b[0;36mtrace_dispatch\u001b[0;34m(self, frame, event, arg)\u001b[0m\n\u001b[1;32m     49\u001b[0m             \u001b[0;32mreturn\u001b[0m \u001b[0;31m# None\u001b[0m\u001b[0;34m\u001b[0m\u001b[0;34m\u001b[0m\u001b[0m\n\u001b[1;32m     50\u001b[0m         \u001b[0;32mif\u001b[0m \u001b[0mevent\u001b[0m \u001b[0;34m==\u001b[0m \u001b[0;34m'line'\u001b[0m\u001b[0;34m:\u001b[0m\u001b[0;34m\u001b[0m\u001b[0;34m\u001b[0m\u001b[0m\n\u001b[0;32m---> 51\u001b[0;31m             \u001b[0;32mreturn\u001b[0m \u001b[0mself\u001b[0m\u001b[0;34m.\u001b[0m\u001b[0mdispatch_line\u001b[0m\u001b[0;34m(\u001b[0m\u001b[0mframe\u001b[0m\u001b[0;34m)\u001b[0m\u001b[0;34m\u001b[0m\u001b[0;34m\u001b[0m\u001b[0m\n\u001b[0m\u001b[1;32m     52\u001b[0m         \u001b[0;32mif\u001b[0m \u001b[0mevent\u001b[0m \u001b[0;34m==\u001b[0m \u001b[0;34m'call'\u001b[0m\u001b[0;34m:\u001b[0m\u001b[0;34m\u001b[0m\u001b[0;34m\u001b[0m\u001b[0m\n\u001b[1;32m     53\u001b[0m             \u001b[0;32mreturn\u001b[0m \u001b[0mself\u001b[0m\u001b[0;34m.\u001b[0m\u001b[0mdispatch_call\u001b[0m\u001b[0;34m(\u001b[0m\u001b[0mframe\u001b[0m\u001b[0;34m,\u001b[0m \u001b[0marg\u001b[0m\u001b[0;34m)\u001b[0m\u001b[0;34m\u001b[0m\u001b[0;34m\u001b[0m\u001b[0m\n",
      "\u001b[0;32m~/anaconda3/envs/sim2real/lib/python3.6/bdb.py\u001b[0m in \u001b[0;36mdispatch_line\u001b[0;34m(self, frame)\u001b[0m\n\u001b[1;32m     68\u001b[0m         \u001b[0;32mif\u001b[0m \u001b[0mself\u001b[0m\u001b[0;34m.\u001b[0m\u001b[0mstop_here\u001b[0m\u001b[0;34m(\u001b[0m\u001b[0mframe\u001b[0m\u001b[0;34m)\u001b[0m \u001b[0;32mor\u001b[0m \u001b[0mself\u001b[0m\u001b[0;34m.\u001b[0m\u001b[0mbreak_here\u001b[0m\u001b[0;34m(\u001b[0m\u001b[0mframe\u001b[0m\u001b[0;34m)\u001b[0m\u001b[0;34m:\u001b[0m\u001b[0;34m\u001b[0m\u001b[0;34m\u001b[0m\u001b[0m\n\u001b[1;32m     69\u001b[0m             \u001b[0mself\u001b[0m\u001b[0;34m.\u001b[0m\u001b[0muser_line\u001b[0m\u001b[0;34m(\u001b[0m\u001b[0mframe\u001b[0m\u001b[0;34m)\u001b[0m\u001b[0;34m\u001b[0m\u001b[0;34m\u001b[0m\u001b[0m\n\u001b[0;32m---> 70\u001b[0;31m             \u001b[0;32mif\u001b[0m \u001b[0mself\u001b[0m\u001b[0;34m.\u001b[0m\u001b[0mquitting\u001b[0m\u001b[0;34m:\u001b[0m \u001b[0;32mraise\u001b[0m \u001b[0mBdbQuit\u001b[0m\u001b[0;34m\u001b[0m\u001b[0;34m\u001b[0m\u001b[0m\n\u001b[0m\u001b[1;32m     71\u001b[0m         \u001b[0;32mreturn\u001b[0m \u001b[0mself\u001b[0m\u001b[0;34m.\u001b[0m\u001b[0mtrace_dispatch\u001b[0m\u001b[0;34m\u001b[0m\u001b[0;34m\u001b[0m\u001b[0m\n\u001b[1;32m     72\u001b[0m \u001b[0;34m\u001b[0m\u001b[0m\n",
      "\u001b[0;31mBdbQuit\u001b[0m: "
     ]
    }
   ],
   "source": [
    "run_one_trial(rl_ctor, 0, prime_fixed=False)"
   ]
  },
  {
   "cell_type": "markdown",
   "metadata": {},
   "source": [
    "# Running experiments and plotting results"
   ]
  },
  {
   "cell_type": "code",
   "execution_count": 23,
   "metadata": {},
   "outputs": [
    {
     "name": "stdout",
     "output_type": "stream",
     "text": [
      "reward targets are []\n"
     ]
    },
    {
     "name": "stderr",
     "output_type": "stream",
     "text": [
      "Process ForkPoolWorker-38:\n",
      "Process ForkPoolWorker-37:\n",
      "Process ForkPoolWorker-36:\n",
      "Process ForkPoolWorker-43:\n",
      "Process ForkPoolWorker-48:\n",
      "Process ForkPoolWorker-44:\n",
      "Process ForkPoolWorker-40:\n",
      "Process ForkPoolWorker-41:\n",
      "Process ForkPoolWorker-42:\n",
      "Process ForkPoolWorker-46:\n",
      "Process ForkPoolWorker-34:\n",
      "Process ForkPoolWorker-47:\n",
      "Process ForkPoolWorker-35:\n",
      "Process ForkPoolWorker-33:\n",
      "Process ForkPoolWorker-45:\n",
      "Traceback (most recent call last):\n",
      "Traceback (most recent call last):\n",
      "Traceback (most recent call last):\n",
      "Traceback (most recent call last):\n",
      "Traceback (most recent call last):\n",
      "Traceback (most recent call last):\n"
     ]
    }
   ],
   "source": [
    "strategies = ['optimal', 'nominal', 'ofu', 'ts', 'sls_cl', 'sls_fir', 'rl']\n",
    "start_time = time.time()\n",
    "with Pool(processes=cpu_count()) as p:\n",
    "    all_futures = [[spawn_invocation(method, p, prime_fixed=True) \n",
    "                    for _ in range(trials_per_method)] for method in strategies]\n",
    "    list_of_results = [process_future_list(ftchs) for ftchs in all_futures]\n",
    "print(\"finished execution in {} seconds\".format(time.time() - start_time))"
   ]
  },
  {
   "cell_type": "code",
   "execution_count": null,
   "metadata": {},
   "outputs": [],
   "source": [
    "def get_errorbars(regrets, q=10, percent_bad=0):\n",
    "    median = np.percentile(regrets, q=50-percent_bad, axis=0)\n",
    "    low10 = np.percentile(regrets, q=q, axis=0)\n",
    "    high90 = np.percentile(regrets, q=100-(q-percent_bad), axis=0)\n",
    "    return median, low10, high90\n",
    "\n",
    "def plot_list_medquantile(datalist, legendlist=None, xlabel=None, ylabel=None, semilogy=False, \n",
    "                          loc='upper left', alpha=0.1, figsize=(8,4)):\n",
    "    rgblist = sns.color_palette('viridis', len(datalist))\n",
    "    plt.figure(figsize=figsize)\n",
    "    for idx, data in enumerate(datalist):\n",
    "        median, lower, higher = data\n",
    "        if semilogy:\n",
    "            plt.semilogy(range(len(median)), median, color=rgblist[idx], label=legendlist[idx])\n",
    "        else:\n",
    "            plt.plot(range(len(median)), median, color=rgblist[idx], label=legendlist[idx])\n",
    "        plt.fill_between(np.array(np.arange(len(median))), median.astype(np.float), \n",
    "                        higher.astype(np.float), color=rgblist[idx], alpha=alpha)\n",
    "    if legendlist is not None:\n",
    "        plt.legend(loc=loc)\n",
    "    if xlabel is not None:\n",
    "        plt.xlabel(xlabel)\n",
    "    if ylabel is not None:\n",
    "        plt.ylabel(ylabel)"
   ]
  },
  {
   "cell_type": "code",
   "execution_count": null,
   "metadata": {},
   "outputs": [],
   "source": [
    "regretlist = []\n",
    "costs_list = []\n",
    "\n",
    "strat_rearranged =  [strategies[6], strategies[2], strategies[3], strategies[5], strategies[1], strategies[0]]\n",
    "res_rearranged =  [list_of_results[6], list_of_results[2], list_of_results[3], list_of_results[5], list_of_results[1], list_of_results[0]]\n",
    "\n",
    "for name, result in zip(strat_rearranged, res_rearranged):\n",
    "    regrets, errors, costs, _, bad_invocations = result\n",
    "    print(name, \"bad_invocations\", bad_invocations)\n",
    "    percent_bad = bad_invocations / trials_per_method * 100\n",
    "    regretlist.append(get_errorbars(regrets, q=10, percent_bad=percent_bad))\n",
    "    costs_list.append(get_errorbars(costs, q=10, percent_bad=percent_bad))\n",
    "\n",
    "sns.set_palette(\"muted\")\n",
    "plot_list_medquantile(regretlist, legendlist=strat_rearranged, xlabel=\"Iteration\", ylabel=\"Regret\")\n",
    "plot_list_medquantile(costs_list[:-1], legendlist=strat_rearranged[:-1], xlabel=\"Iteration\", \n",
    "                      ylabel=\"Cost Suboptimality\", semilogy=True, loc='upper right')\n"
   ]
  },
  {
   "cell_type": "code",
   "execution_count": null,
   "metadata": {},
   "outputs": [],
   "source": []
  },
  {
   "cell_type": "code",
   "execution_count": null,
   "metadata": {},
   "outputs": [],
   "source": []
  }
 ],
 "metadata": {
  "anaconda-cloud": {},
  "kernelspec": {
   "display_name": "sim2real",
   "language": "python",
   "name": "sim2real"
  },
  "language_info": {
   "codemirror_mode": {
    "name": "ipython",
    "version": 3
   },
   "file_extension": ".py",
   "mimetype": "text/x-python",
   "name": "python",
   "nbconvert_exporter": "python",
   "pygments_lexer": "ipython3",
   "version": "3.6.8"
  }
 },
 "nbformat": 4,
 "nbformat_minor": 2
}
